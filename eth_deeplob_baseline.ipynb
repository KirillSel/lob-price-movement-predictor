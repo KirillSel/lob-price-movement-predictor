{
  "metadata": {
    "kernelspec": {
      "name": "python3",
      "display_name": "Python 3",
      "language": "python"
    },
    "language_info": {
      "name": "python",
      "version": "3.11.11",
      "mimetype": "text/x-python",
      "codemirror_mode": {
        "name": "ipython",
        "version": 3
      },
      "pygments_lexer": "ipython3",
      "nbconvert_exporter": "python",
      "file_extension": ".py"
    },
    "colab": {
      "provenance": []
    },
    "kaggle": {
      "accelerator": "nvidiaTeslaT4",
      "dataSources": [
        {
          "sourceId": 11875610,
          "sourceType": "datasetVersion",
          "datasetId": 7463417
        }
      ],
      "dockerImageVersionId": 31040,
      "isInternetEnabled": true,
      "language": "python",
      "sourceType": "notebook",
      "isGpuEnabled": true
    }
  },
  "nbformat_minor": 0,
  "nbformat": 4,
  "cells": [
    {
      "cell_type": "code",
      "source": [
        "!pip install pandas_market_calendars"
      ],
      "metadata": {
        "colab": {
          "base_uri": "https://localhost:8080/"
        },
        "id": "H1T9hIh27am0",
        "outputId": "aaf19264-6c5d-4480-ea73-7751565c890b",
        "trusted": true,
        "execution": {
          "iopub.status.busy": "2025-05-25T23:58:40.439411Z",
          "iopub.execute_input": "2025-05-25T23:58:40.439674Z",
          "iopub.status.idle": "2025-05-25T23:58:45.829728Z",
          "shell.execute_reply.started": "2025-05-25T23:58:40.439643Z",
          "shell.execute_reply": "2025-05-25T23:58:45.828654Z"
        }
      },
      "outputs": [
        {
          "name": "stdout",
          "text": "Collecting pandas_market_calendars\n  Downloading pandas_market_calendars-5.1.0-py3-none-any.whl.metadata (9.6 kB)\nRequirement already satisfied: pandas>=1.1 in /usr/local/lib/python3.11/dist-packages (from pandas_market_calendars) (2.2.3)\nRequirement already satisfied: tzdata in /usr/local/lib/python3.11/dist-packages (from pandas_market_calendars) (2025.2)\nRequirement already satisfied: python-dateutil in /usr/local/lib/python3.11/dist-packages (from pandas_market_calendars) (2.9.0.post0)\nCollecting exchange-calendars>=3.3 (from pandas_market_calendars)\n  Downloading exchange_calendars-4.10.1-py3-none-any.whl.metadata (37 kB)\nRequirement already satisfied: numpy in /usr/local/lib/python3.11/dist-packages (from exchange-calendars>=3.3->pandas_market_calendars) (1.26.4)\nCollecting pyluach (from exchange-calendars>=3.3->pandas_market_calendars)\n  Downloading pyluach-2.2.0-py3-none-any.whl.metadata (4.3 kB)\nRequirement already satisfied: toolz in /usr/local/lib/python3.11/dist-packages (from exchange-calendars>=3.3->pandas_market_calendars) (1.0.0)\nCollecting korean_lunar_calendar (from exchange-calendars>=3.3->pandas_market_calendars)\n  Downloading korean_lunar_calendar-0.3.1-py3-none-any.whl.metadata (2.8 kB)\nRequirement already satisfied: pytz>=2020.1 in /usr/local/lib/python3.11/dist-packages (from pandas>=1.1->pandas_market_calendars) (2025.2)\nRequirement already satisfied: six>=1.5 in /usr/local/lib/python3.11/dist-packages (from python-dateutil->pandas_market_calendars) (1.17.0)\nRequirement already satisfied: mkl_fft in /usr/local/lib/python3.11/dist-packages (from numpy->exchange-calendars>=3.3->pandas_market_calendars) (1.3.8)\nRequirement already satisfied: mkl_random in /usr/local/lib/python3.11/dist-packages (from numpy->exchange-calendars>=3.3->pandas_market_calendars) (1.2.4)\nRequirement already satisfied: mkl_umath in /usr/local/lib/python3.11/dist-packages (from numpy->exchange-calendars>=3.3->pandas_market_calendars) (0.1.1)\nRequirement already satisfied: mkl in /usr/local/lib/python3.11/dist-packages (from numpy->exchange-calendars>=3.3->pandas_market_calendars) (2025.1.0)\nRequirement already satisfied: tbb4py in /usr/local/lib/python3.11/dist-packages (from numpy->exchange-calendars>=3.3->pandas_market_calendars) (2022.1.0)\nRequirement already satisfied: mkl-service in /usr/local/lib/python3.11/dist-packages (from numpy->exchange-calendars>=3.3->pandas_market_calendars) (2.4.1)\nRequirement already satisfied: intel-openmp<2026,>=2024 in /usr/local/lib/python3.11/dist-packages (from mkl->numpy->exchange-calendars>=3.3->pandas_market_calendars) (2024.2.0)\nRequirement already satisfied: tbb==2022.* in /usr/local/lib/python3.11/dist-packages (from mkl->numpy->exchange-calendars>=3.3->pandas_market_calendars) (2022.1.0)\nRequirement already satisfied: tcmlib==1.* in /usr/local/lib/python3.11/dist-packages (from tbb==2022.*->mkl->numpy->exchange-calendars>=3.3->pandas_market_calendars) (1.3.0)\nRequirement already satisfied: intel-cmplr-lib-rt in /usr/local/lib/python3.11/dist-packages (from mkl_umath->numpy->exchange-calendars>=3.3->pandas_market_calendars) (2024.2.0)\nRequirement already satisfied: intel-cmplr-lib-ur==2024.2.0 in /usr/local/lib/python3.11/dist-packages (from intel-openmp<2026,>=2024->mkl->numpy->exchange-calendars>=3.3->pandas_market_calendars) (2024.2.0)\nDownloading pandas_market_calendars-5.1.0-py3-none-any.whl (123 kB)\n\u001b[2K   \u001b[90m━━━━━━━━━━━━━━━━━━━━━━━━━━━━━━━━━━━━━━━━\u001b[0m \u001b[32m123.9/123.9 kB\u001b[0m \u001b[31m4.2 MB/s\u001b[0m eta \u001b[36m0:00:00\u001b[0m\n\u001b[?25hDownloading exchange_calendars-4.10.1-py3-none-any.whl (200 kB)\n\u001b[2K   \u001b[90m━━━━━━━━━━━━━━━━━━━━━━━━━━━━━━━━━━━━━━━━\u001b[0m \u001b[32m200.1/200.1 kB\u001b[0m \u001b[31m14.4 MB/s\u001b[0m eta \u001b[36m0:00:00\u001b[0m\n\u001b[?25hDownloading korean_lunar_calendar-0.3.1-py3-none-any.whl (9.0 kB)\nDownloading pyluach-2.2.0-py3-none-any.whl (25 kB)\nInstalling collected packages: korean_lunar_calendar, pyluach, exchange-calendars, pandas_market_calendars\nSuccessfully installed exchange-calendars-4.10.1 korean_lunar_calendar-0.3.1 pandas_market_calendars-5.1.0 pyluach-2.2.0\n",
          "output_type": "stream"
        }
      ],
      "execution_count": null
    },
    {
      "cell_type": "code",
      "source": [
        "import pandas as pd\n",
        "import numpy as np\n",
        "\n",
        "from sklearn.model_selection import train_test_split\n",
        "from keras.utils import to_categorical\n",
        "from keras.models import Model\n",
        "from keras.optimizers import Adam\n",
        "from keras.layers import Input, Conv2D, LeakyReLU, MaxPooling2D, concatenate, LSTM, Reshape, Dense\n",
        "from keras.callbacks import EarlyStopping\n",
        "\n",
        "import pandas_market_calendars as mcal"
      ],
      "metadata": {
        "id": "TM27oi-366FJ",
        "trusted": true,
        "execution": {
          "iopub.status.busy": "2025-05-25T23:58:45.830806Z",
          "iopub.execute_input": "2025-05-25T23:58:45.831055Z",
          "iopub.status.idle": "2025-05-25T23:59:01.591141Z",
          "shell.execute_reply.started": "2025-05-25T23:58:45.831028Z",
          "shell.execute_reply": "2025-05-25T23:59:01.590348Z"
        },
        "outputId": "7800aaa3-7aa8-4594-c828-714037e14d8e"
      },
      "outputs": [
        {
          "name": "stderr",
          "text": "2025-05-25 23:58:48.575515: E external/local_xla/xla/stream_executor/cuda/cuda_fft.cc:477] Unable to register cuFFT factory: Attempting to register factory for plugin cuFFT when one has already been registered\nWARNING: All log messages before absl::InitializeLog() is called are written to STDERR\nE0000 00:00:1748217528.791891      35 cuda_dnn.cc:8310] Unable to register cuDNN factory: Attempting to register factory for plugin cuDNN when one has already been registered\nE0000 00:00:1748217528.857016      35 cuda_blas.cc:1418] Unable to register cuBLAS factory: Attempting to register factory for plugin cuBLAS when one has already been registered\n",
          "output_type": "stream"
        }
      ],
      "execution_count": null
    },
    {
      "cell_type": "code",
      "source": [
        "def moving_average(x, k):\n",
        "    return np.convolve(x, np.ones(k), 'valid') / k\n",
        "\n",
        "def compute_mid_price_changes(daily_data_dict, date_list, k):\n",
        "    all_changes = []\n",
        "    for date in date_list:\n",
        "        price_bid = daily_data_dict[date][:, 0]\n",
        "        size_bid = daily_data_dict[date][:, 1]\n",
        "        price_ask = daily_data_dict[date][:, 2]\n",
        "        size_ask = daily_data_dict[date][:, 3]\n",
        "        mid_price = (price_ask * size_bid + price_bid * size_ask) / (size_ask + size_bid)\n",
        "\n",
        "        future_avg = moving_average(mid_price, k)[1:]  # Skip current step\n",
        "        current = mid_price[:-k]\n",
        "        pct_change = (future_avg - current) / current\n",
        "        all_changes.extend(pct_change)\n",
        "    return np.array(all_changes)"
      ],
      "metadata": {
        "id": "AAfOwiEqAofr",
        "trusted": true,
        "execution": {
          "iopub.status.busy": "2025-05-25T23:59:45.380846Z",
          "iopub.execute_input": "2025-05-25T23:59:45.381655Z",
          "iopub.status.idle": "2025-05-25T23:59:45.389836Z",
          "shell.execute_reply.started": "2025-05-25T23:59:45.381614Z",
          "shell.execute_reply": "2025-05-25T23:59:45.388691Z"
        }
      },
      "outputs": [],
      "execution_count": null
    },
    {
      "cell_type": "code",
      "source": [
        "df = pd.read_csv(\"/kaggle/input/eth-large/combined_orderbooks_eth_large.csv\")"
      ],
      "metadata": {
        "id": "Rlb33x3rBrP2",
        "trusted": true,
        "execution": {
          "iopub.status.busy": "2025-05-25T23:59:46.579304Z",
          "iopub.execute_input": "2025-05-25T23:59:46.580037Z",
          "iopub.status.idle": "2025-05-25T23:59:52.852014Z",
          "shell.execute_reply.started": "2025-05-25T23:59:46.580012Z",
          "shell.execute_reply": "2025-05-25T23:59:52.851390Z"
        }
      },
      "outputs": [],
      "execution_count": null
    },
    {
      "cell_type": "code",
      "source": [
        "df"
      ],
      "metadata": {
        "colab": {
          "base_uri": "https://localhost:8080/",
          "height": 444
        },
        "id": "33tIGTekqQFQ",
        "outputId": "7c46dd65-d772-44c9-a3ef-f4686f6398b9",
        "trusted": true,
        "execution": {
          "iopub.status.busy": "2025-05-25T23:59:52.853276Z",
          "iopub.execute_input": "2025-05-25T23:59:52.853977Z",
          "iopub.status.idle": "2025-05-25T23:59:53.104171Z",
          "shell.execute_reply.started": "2025-05-25T23:59:52.853957Z",
          "shell.execute_reply": "2025-05-25T23:59:53.103304Z"
        }
      },
      "outputs": [
        {
          "execution_count": 5,
          "output_type": "execute_result",
          "data": {
            "text/plain": "         timestamp  bid_price_1  bid_size_1  ask_price_1  ask_size_1  \\\n0       1745798400      1790.31       38.59      1790.32       15.04   \n1       1745798401      1790.31       38.71      1790.32       14.93   \n2       1745798402      1790.31       18.98      1790.32       27.39   \n3       1745798403      1790.31       27.70      1790.32        9.89   \n4       1745798404      1790.31       27.58      1790.32       10.34   \n...            ...          ...         ...          ...         ...   \n863996  1746662396      1810.48       52.96      1810.49       62.14   \n863997  1746662397      1810.48        6.68      1810.49       74.63   \n863998  1746662398      1810.48       19.02      1810.49       55.80   \n863999  1746662399      1810.26        4.74      1810.27       93.51   \n864000  1746662400      1810.26        7.95      1810.27      100.01   \n\n        bid_price_2  bid_size_2  ask_price_2  ask_size_2  bid_price_3  ...  \\\n0           1790.30        0.68      1790.34        0.08      1790.28  ...   \n1           1790.30        0.68      1790.34        0.08      1790.28  ...   \n2           1790.28        0.02      1790.33        0.03      1790.26  ...   \n3           1790.28        0.02      1790.34        0.08      1790.26  ...   \n4           1790.28        0.02      1790.34        0.08      1790.26  ...   \n...             ...         ...          ...         ...          ...  ...   \n863996      1810.47        1.53      1810.50        0.01      1810.45  ...   \n863997      1810.47        0.02      1810.50        0.01      1810.45  ...   \n863998      1810.46        0.02      1810.50        0.01      1810.45  ...   \n863999      1810.25        0.02      1810.30        2.95      1810.24  ...   \n864000      1810.25        0.02      1810.29        3.18      1810.24  ...   \n\n        ask_price_8  ask_size_8  bid_price_9  bid_size_9  ask_price_9  \\\n0           1790.43        0.02      1790.21        0.02      1790.45   \n1           1790.43        0.02      1790.21        0.02      1790.45   \n2           1790.41        1.00      1790.20        1.12      1790.43   \n3           1790.43        0.02      1790.20        1.12      1790.45   \n4           1790.43        0.02      1790.20        1.12      1790.45   \n...             ...         ...          ...         ...          ...   \n863996      1810.58        5.06      1810.36        0.02      1810.59   \n863997      1810.59       16.34      1810.36        0.02      1810.60   \n863998      1810.59       16.34      1810.36        8.30      1810.60   \n863999      1810.38        0.01      1810.13        3.87      1810.40   \n864000      1810.36       10.91      1810.13        0.03      1810.37   \n\n        ask_size_9  bid_price_10  bid_size_10  ask_price_10  ask_size_10  \n0             0.04       1790.20         1.12       1790.47         0.02  \n1             0.04       1790.20         1.12       1790.47         0.02  \n2             0.02       1790.19         0.16       1790.45         0.02  \n3             0.02       1790.19         0.16       1790.47         0.02  \n4             0.02       1790.19         0.16       1790.47         0.02  \n...            ...           ...          ...           ...          ...  \n863996       16.34       1810.35         6.29       1810.60         1.97  \n863997        1.97       1810.35         6.29       1810.61         0.03  \n863998        1.97       1810.35         6.29       1810.61         0.03  \n863999        1.97       1810.12         0.17       1810.41         0.30  \n864000       23.04       1810.12         0.17       1810.38         0.01  \n\n[864001 rows x 41 columns]",
            "text/html": "<div>\n<style scoped>\n    .dataframe tbody tr th:only-of-type {\n        vertical-align: middle;\n    }\n\n    .dataframe tbody tr th {\n        vertical-align: top;\n    }\n\n    .dataframe thead th {\n        text-align: right;\n    }\n</style>\n<table border=\"1\" class=\"dataframe\">\n  <thead>\n    <tr style=\"text-align: right;\">\n      <th></th>\n      <th>timestamp</th>\n      <th>bid_price_1</th>\n      <th>bid_size_1</th>\n      <th>ask_price_1</th>\n      <th>ask_size_1</th>\n      <th>bid_price_2</th>\n      <th>bid_size_2</th>\n      <th>ask_price_2</th>\n      <th>ask_size_2</th>\n      <th>bid_price_3</th>\n      <th>...</th>\n      <th>ask_price_8</th>\n      <th>ask_size_8</th>\n      <th>bid_price_9</th>\n      <th>bid_size_9</th>\n      <th>ask_price_9</th>\n      <th>ask_size_9</th>\n      <th>bid_price_10</th>\n      <th>bid_size_10</th>\n      <th>ask_price_10</th>\n      <th>ask_size_10</th>\n    </tr>\n  </thead>\n  <tbody>\n    <tr>\n      <th>0</th>\n      <td>1745798400</td>\n      <td>1790.31</td>\n      <td>38.59</td>\n      <td>1790.32</td>\n      <td>15.04</td>\n      <td>1790.30</td>\n      <td>0.68</td>\n      <td>1790.34</td>\n      <td>0.08</td>\n      <td>1790.28</td>\n      <td>...</td>\n      <td>1790.43</td>\n      <td>0.02</td>\n      <td>1790.21</td>\n      <td>0.02</td>\n      <td>1790.45</td>\n      <td>0.04</td>\n      <td>1790.20</td>\n      <td>1.12</td>\n      <td>1790.47</td>\n      <td>0.02</td>\n    </tr>\n    <tr>\n      <th>1</th>\n      <td>1745798401</td>\n      <td>1790.31</td>\n      <td>38.71</td>\n      <td>1790.32</td>\n      <td>14.93</td>\n      <td>1790.30</td>\n      <td>0.68</td>\n      <td>1790.34</td>\n      <td>0.08</td>\n      <td>1790.28</td>\n      <td>...</td>\n      <td>1790.43</td>\n      <td>0.02</td>\n      <td>1790.21</td>\n      <td>0.02</td>\n      <td>1790.45</td>\n      <td>0.04</td>\n      <td>1790.20</td>\n      <td>1.12</td>\n      <td>1790.47</td>\n      <td>0.02</td>\n    </tr>\n    <tr>\n      <th>2</th>\n      <td>1745798402</td>\n      <td>1790.31</td>\n      <td>18.98</td>\n      <td>1790.32</td>\n      <td>27.39</td>\n      <td>1790.28</td>\n      <td>0.02</td>\n      <td>1790.33</td>\n      <td>0.03</td>\n      <td>1790.26</td>\n      <td>...</td>\n      <td>1790.41</td>\n      <td>1.00</td>\n      <td>1790.20</td>\n      <td>1.12</td>\n      <td>1790.43</td>\n      <td>0.02</td>\n      <td>1790.19</td>\n      <td>0.16</td>\n      <td>1790.45</td>\n      <td>0.02</td>\n    </tr>\n    <tr>\n      <th>3</th>\n      <td>1745798403</td>\n      <td>1790.31</td>\n      <td>27.70</td>\n      <td>1790.32</td>\n      <td>9.89</td>\n      <td>1790.28</td>\n      <td>0.02</td>\n      <td>1790.34</td>\n      <td>0.08</td>\n      <td>1790.26</td>\n      <td>...</td>\n      <td>1790.43</td>\n      <td>0.02</td>\n      <td>1790.20</td>\n      <td>1.12</td>\n      <td>1790.45</td>\n      <td>0.02</td>\n      <td>1790.19</td>\n      <td>0.16</td>\n      <td>1790.47</td>\n      <td>0.02</td>\n    </tr>\n    <tr>\n      <th>4</th>\n      <td>1745798404</td>\n      <td>1790.31</td>\n      <td>27.58</td>\n      <td>1790.32</td>\n      <td>10.34</td>\n      <td>1790.28</td>\n      <td>0.02</td>\n      <td>1790.34</td>\n      <td>0.08</td>\n      <td>1790.26</td>\n      <td>...</td>\n      <td>1790.43</td>\n      <td>0.02</td>\n      <td>1790.20</td>\n      <td>1.12</td>\n      <td>1790.45</td>\n      <td>0.02</td>\n      <td>1790.19</td>\n      <td>0.16</td>\n      <td>1790.47</td>\n      <td>0.02</td>\n    </tr>\n    <tr>\n      <th>...</th>\n      <td>...</td>\n      <td>...</td>\n      <td>...</td>\n      <td>...</td>\n      <td>...</td>\n      <td>...</td>\n      <td>...</td>\n      <td>...</td>\n      <td>...</td>\n      <td>...</td>\n      <td>...</td>\n      <td>...</td>\n      <td>...</td>\n      <td>...</td>\n      <td>...</td>\n      <td>...</td>\n      <td>...</td>\n      <td>...</td>\n      <td>...</td>\n      <td>...</td>\n      <td>...</td>\n    </tr>\n    <tr>\n      <th>863996</th>\n      <td>1746662396</td>\n      <td>1810.48</td>\n      <td>52.96</td>\n      <td>1810.49</td>\n      <td>62.14</td>\n      <td>1810.47</td>\n      <td>1.53</td>\n      <td>1810.50</td>\n      <td>0.01</td>\n      <td>1810.45</td>\n      <td>...</td>\n      <td>1810.58</td>\n      <td>5.06</td>\n      <td>1810.36</td>\n      <td>0.02</td>\n      <td>1810.59</td>\n      <td>16.34</td>\n      <td>1810.35</td>\n      <td>6.29</td>\n      <td>1810.60</td>\n      <td>1.97</td>\n    </tr>\n    <tr>\n      <th>863997</th>\n      <td>1746662397</td>\n      <td>1810.48</td>\n      <td>6.68</td>\n      <td>1810.49</td>\n      <td>74.63</td>\n      <td>1810.47</td>\n      <td>0.02</td>\n      <td>1810.50</td>\n      <td>0.01</td>\n      <td>1810.45</td>\n      <td>...</td>\n      <td>1810.59</td>\n      <td>16.34</td>\n      <td>1810.36</td>\n      <td>0.02</td>\n      <td>1810.60</td>\n      <td>1.97</td>\n      <td>1810.35</td>\n      <td>6.29</td>\n      <td>1810.61</td>\n      <td>0.03</td>\n    </tr>\n    <tr>\n      <th>863998</th>\n      <td>1746662398</td>\n      <td>1810.48</td>\n      <td>19.02</td>\n      <td>1810.49</td>\n      <td>55.80</td>\n      <td>1810.46</td>\n      <td>0.02</td>\n      <td>1810.50</td>\n      <td>0.01</td>\n      <td>1810.45</td>\n      <td>...</td>\n      <td>1810.59</td>\n      <td>16.34</td>\n      <td>1810.36</td>\n      <td>8.30</td>\n      <td>1810.60</td>\n      <td>1.97</td>\n      <td>1810.35</td>\n      <td>6.29</td>\n      <td>1810.61</td>\n      <td>0.03</td>\n    </tr>\n    <tr>\n      <th>863999</th>\n      <td>1746662399</td>\n      <td>1810.26</td>\n      <td>4.74</td>\n      <td>1810.27</td>\n      <td>93.51</td>\n      <td>1810.25</td>\n      <td>0.02</td>\n      <td>1810.30</td>\n      <td>2.95</td>\n      <td>1810.24</td>\n      <td>...</td>\n      <td>1810.38</td>\n      <td>0.01</td>\n      <td>1810.13</td>\n      <td>3.87</td>\n      <td>1810.40</td>\n      <td>1.97</td>\n      <td>1810.12</td>\n      <td>0.17</td>\n      <td>1810.41</td>\n      <td>0.30</td>\n    </tr>\n    <tr>\n      <th>864000</th>\n      <td>1746662400</td>\n      <td>1810.26</td>\n      <td>7.95</td>\n      <td>1810.27</td>\n      <td>100.01</td>\n      <td>1810.25</td>\n      <td>0.02</td>\n      <td>1810.29</td>\n      <td>3.18</td>\n      <td>1810.24</td>\n      <td>...</td>\n      <td>1810.36</td>\n      <td>10.91</td>\n      <td>1810.13</td>\n      <td>0.03</td>\n      <td>1810.37</td>\n      <td>23.04</td>\n      <td>1810.12</td>\n      <td>0.17</td>\n      <td>1810.38</td>\n      <td>0.01</td>\n    </tr>\n  </tbody>\n</table>\n<p>864001 rows × 41 columns</p>\n</div>"
          },
          "metadata": {}
        }
      ],
      "execution_count": null
    },
    {
      "cell_type": "code",
      "source": [
        "df = df.sort_values(by=['timestamp']).reset_index(drop=True)"
      ],
      "metadata": {
        "id": "niosxNvYBrSA",
        "trusted": true,
        "execution": {
          "iopub.status.busy": "2025-05-25T23:59:53.104983Z",
          "iopub.execute_input": "2025-05-25T23:59:53.105245Z",
          "iopub.status.idle": "2025-05-25T23:59:53.361725Z",
          "shell.execute_reply.started": "2025-05-25T23:59:53.105214Z",
          "shell.execute_reply": "2025-05-25T23:59:53.361128Z"
        }
      },
      "outputs": [],
      "execution_count": null
    },
    {
      "cell_type": "code",
      "source": [
        "df['date'] = pd.to_datetime(df['timestamp'], unit='s')\n",
        "df['date'] = df['date'].dt.date\n",
        "df['date'] = df['date'].apply(lambda x: str(x))"
      ],
      "metadata": {
        "id": "tC3ZytlnBrUW",
        "trusted": true,
        "execution": {
          "iopub.status.busy": "2025-05-25T23:59:53.363126Z",
          "iopub.execute_input": "2025-05-25T23:59:53.363399Z",
          "iopub.status.idle": "2025-05-25T23:59:54.303017Z",
          "shell.execute_reply.started": "2025-05-25T23:59:53.363371Z",
          "shell.execute_reply": "2025-05-25T23:59:54.302337Z"
        }
      },
      "outputs": [],
      "execution_count": null
    },
    {
      "cell_type": "code",
      "source": [
        "df = df[df['date'] != '2025-05-08'].reset_index(drop=True)"
      ],
      "metadata": {
        "trusted": true,
        "execution": {
          "iopub.status.busy": "2025-05-25T23:59:54.303605Z",
          "iopub.execute_input": "2025-05-25T23:59:54.303862Z",
          "iopub.status.idle": "2025-05-25T23:59:54.618476Z",
          "shell.execute_reply.started": "2025-05-25T23:59:54.303843Z",
          "shell.execute_reply": "2025-05-25T23:59:54.617845Z"
        },
        "id": "GiTFBsLUbvos"
      },
      "outputs": [],
      "execution_count": null
    },
    {
      "cell_type": "code",
      "source": [
        "numeric_columns = [col for col in df.columns if col not in ['timestamp', 'date']]"
      ],
      "metadata": {
        "id": "sSDmlKqgBrWe",
        "trusted": true,
        "execution": {
          "iopub.status.busy": "2025-05-25T23:59:54.619289Z",
          "iopub.execute_input": "2025-05-25T23:59:54.619515Z",
          "iopub.status.idle": "2025-05-25T23:59:54.624005Z",
          "shell.execute_reply.started": "2025-05-25T23:59:54.619480Z",
          "shell.execute_reply": "2025-05-25T23:59:54.623402Z"
        }
      },
      "outputs": [],
      "execution_count": null
    },
    {
      "cell_type": "code",
      "source": [
        "dates_str_list = list(df['date'].unique())"
      ],
      "metadata": {
        "id": "eM7oFm8KBrao",
        "trusted": true,
        "execution": {
          "iopub.status.busy": "2025-05-25T23:59:54.624983Z",
          "iopub.execute_input": "2025-05-25T23:59:54.625220Z",
          "iopub.status.idle": "2025-05-25T23:59:54.678941Z",
          "shell.execute_reply.started": "2025-05-25T23:59:54.625203Z",
          "shell.execute_reply": "2025-05-25T23:59:54.678332Z"
        }
      },
      "outputs": [],
      "execution_count": null
    },
    {
      "cell_type": "code",
      "source": [
        "daily_data_dict = {}"
      ],
      "metadata": {
        "id": "9Vp7Z5luBrct",
        "trusted": true,
        "execution": {
          "iopub.status.busy": "2025-05-25T23:59:54.679594Z",
          "iopub.execute_input": "2025-05-25T23:59:54.679807Z",
          "iopub.status.idle": "2025-05-25T23:59:54.683448Z",
          "shell.execute_reply.started": "2025-05-25T23:59:54.679781Z",
          "shell.execute_reply": "2025-05-25T23:59:54.682657Z"
        }
      },
      "outputs": [],
      "execution_count": null
    },
    {
      "cell_type": "code",
      "source": [
        "for i in range(len(dates_str_list)):\n",
        "    date = dates_str_list[i]\n",
        "    if date not in daily_data_dict.keys():\n",
        "        daily_data_dict[date] = np.array(df[df['date']==dates_str_list[i]][numeric_columns])"
      ],
      "metadata": {
        "id": "wVkdhDarBre2",
        "trusted": true,
        "execution": {
          "iopub.status.busy": "2025-05-25T23:59:54.684164Z",
          "iopub.execute_input": "2025-05-25T23:59:54.684740Z",
          "iopub.status.idle": "2025-05-25T23:59:55.512622Z",
          "shell.execute_reply.started": "2025-05-25T23:59:54.684708Z",
          "shell.execute_reply": "2025-05-25T23:59:55.511808Z"
        }
      },
      "outputs": [],
      "execution_count": null
    },
    {
      "cell_type": "code",
      "source": [
        "mid_price_changes = compute_mid_price_changes(daily_data_dict, ['2025-04-28'], 8)"
      ],
      "metadata": {
        "trusted": true,
        "execution": {
          "iopub.status.busy": "2025-05-25T23:59:55.514820Z",
          "iopub.execute_input": "2025-05-25T23:59:55.515068Z",
          "iopub.status.idle": "2025-05-25T23:59:55.539269Z",
          "shell.execute_reply.started": "2025-05-25T23:59:55.515050Z",
          "shell.execute_reply": "2025-05-25T23:59:55.538723Z"
        },
        "id": "hgHUFDAqbvot"
      },
      "outputs": [],
      "execution_count": null
    },
    {
      "cell_type": "code",
      "source": [
        "alpha = np.quantile(mid_price_changes, 0.3)"
      ],
      "metadata": {
        "trusted": true,
        "execution": {
          "iopub.status.busy": "2025-05-25T23:59:55.539926Z",
          "iopub.execute_input": "2025-05-25T23:59:55.540109Z",
          "iopub.status.idle": "2025-05-25T23:59:55.546527Z",
          "shell.execute_reply.started": "2025-05-25T23:59:55.540094Z",
          "shell.execute_reply": "2025-05-25T23:59:55.545726Z"
        },
        "id": "EfXRcC4sbvot"
      },
      "outputs": [],
      "execution_count": null
    },
    {
      "cell_type": "code",
      "source": [
        "alpha"
      ],
      "metadata": {
        "trusted": true,
        "execution": {
          "iopub.status.busy": "2025-05-25T23:59:55.547320Z",
          "iopub.execute_input": "2025-05-25T23:59:55.547566Z",
          "iopub.status.idle": "2025-05-25T23:59:55.557355Z",
          "shell.execute_reply.started": "2025-05-25T23:59:55.547546Z",
          "shell.execute_reply": "2025-05-25T23:59:55.556608Z"
        },
        "id": "GB5gmBH9bvov",
        "outputId": "41ba2f35-bce3-4f3a-87fc-9cf87a910a61"
      },
      "outputs": [
        {
          "execution_count": 15,
          "output_type": "execute_result",
          "data": {
            "text/plain": "-6.495761631192181e-05"
          },
          "metadata": {}
        }
      ],
      "execution_count": null
    },
    {
      "cell_type": "code",
      "source": [
        "daily_data_dict.pop('2025-04-28')"
      ],
      "metadata": {
        "trusted": true,
        "execution": {
          "iopub.status.busy": "2025-05-25T23:59:55.558204Z",
          "iopub.execute_input": "2025-05-25T23:59:55.558424Z",
          "iopub.status.idle": "2025-05-25T23:59:55.568876Z",
          "shell.execute_reply.started": "2025-05-25T23:59:55.558407Z",
          "shell.execute_reply": "2025-05-25T23:59:55.568259Z"
        },
        "id": "D4fGjbP0bvow",
        "outputId": "75176f53-94d6-4e49-c3ee-d21aa69acbdf"
      },
      "outputs": [
        {
          "execution_count": 16,
          "output_type": "execute_result",
          "data": {
            "text/plain": "array([[1.79031e+03, 3.85900e+01, 1.79032e+03, ..., 1.12000e+00,\n        1.79047e+03, 2.00000e-02],\n       [1.79031e+03, 3.87100e+01, 1.79032e+03, ..., 1.12000e+00,\n        1.79047e+03, 2.00000e-02],\n       [1.79031e+03, 1.89800e+01, 1.79032e+03, ..., 1.60000e-01,\n        1.79045e+03, 2.00000e-02],\n       ...,\n       [1.79890e+03, 1.36890e+02, 1.79891e+03, ..., 2.00000e-02,\n        1.79901e+03, 2.00000e-02],\n       [1.79890e+03, 1.39910e+02, 1.79891e+03, ..., 2.00000e-02,\n        1.79901e+03, 2.00000e-02],\n       [1.79890e+03, 1.38780e+02, 1.79891e+03, ..., 2.00000e-02,\n        1.79901e+03, 2.00000e-02]])"
          },
          "metadata": {}
        }
      ],
      "execution_count": null
    },
    {
      "cell_type": "code",
      "source": [
        "dates_str_list = dates_str_list[1:]"
      ],
      "metadata": {
        "trusted": true,
        "execution": {
          "iopub.status.busy": "2025-05-25T23:59:55.569565Z",
          "iopub.execute_input": "2025-05-25T23:59:55.569790Z",
          "iopub.status.idle": "2025-05-25T23:59:55.581006Z",
          "shell.execute_reply.started": "2025-05-25T23:59:55.569749Z",
          "shell.execute_reply": "2025-05-25T23:59:55.580432Z"
        },
        "id": "wKtXAmY5bvow"
      },
      "outputs": [],
      "execution_count": null
    },
    {
      "cell_type": "code",
      "source": [
        "normalization_mean_dict = {}\n",
        "normalization_stddev_dict = {}"
      ],
      "metadata": {
        "id": "qhMYFum4Brha",
        "trusted": true,
        "execution": {
          "iopub.status.busy": "2025-05-25T23:59:55.581910Z",
          "iopub.execute_input": "2025-05-25T23:59:55.582189Z",
          "iopub.status.idle": "2025-05-25T23:59:55.591888Z",
          "shell.execute_reply.started": "2025-05-25T23:59:55.582169Z",
          "shell.execute_reply": "2025-05-25T23:59:55.591135Z"
        }
      },
      "outputs": [],
      "execution_count": null
    },
    {
      "cell_type": "code",
      "source": [
        "for i in range(5,len(dates_str_list)):\n",
        "    date = dates_str_list[i]\n",
        "\n",
        "    if (date not in normalization_mean_dict.keys()) or (date not in normalization_stddev_dict.keys()):\n",
        "        look_back_dates_list = dates_str_list[(i-5):i]\n",
        "        prev_5_day_orderbook_np = None\n",
        "        for look_back_date in look_back_dates_list:\n",
        "            if prev_5_day_orderbook_np is None:\n",
        "                prev_5_day_orderbook_np = daily_data_dict[look_back_date]\n",
        "            else:\n",
        "                prev_5_day_orderbook_np = np.vstack((prev_5_day_orderbook_np, daily_data_dict[look_back_date]))\n",
        "\n",
        "\n",
        "        price_mean = prev_5_day_orderbook_np[:,range(0,prev_5_day_orderbook_np.shape[1],2)].mean()\n",
        "        price_std = prev_5_day_orderbook_np[:,range(0,prev_5_day_orderbook_np.shape[1],2)].std()\n",
        "        size_mean = prev_5_day_orderbook_np[:,range(1,prev_5_day_orderbook_np.shape[1],2)].mean()\n",
        "        size_std = prev_5_day_orderbook_np[:,range(1,prev_5_day_orderbook_np.shape[1],2)].std()\n",
        "\n",
        "        normalization_mean_dict[date] = np.repeat([[price_mean,size_mean]], 20, axis=0).flatten()\n",
        "        normalization_stddev_dict[date] = np.repeat([[price_std,size_std]], 20, axis=0).flatten()"
      ],
      "metadata": {
        "id": "quOEQtkAEFbH",
        "trusted": true,
        "execution": {
          "iopub.status.busy": "2025-05-25T23:59:55.592719Z",
          "iopub.execute_input": "2025-05-25T23:59:55.592992Z",
          "iopub.status.idle": "2025-05-25T23:59:56.734624Z",
          "shell.execute_reply.started": "2025-05-25T23:59:55.592974Z",
          "shell.execute_reply": "2025-05-25T23:59:56.733816Z"
        }
      },
      "outputs": [],
      "execution_count": null
    },
    {
      "cell_type": "code",
      "source": [
        "daily_norm_data_dict = {}"
      ],
      "metadata": {
        "id": "_-vXUHuFEWNK",
        "trusted": true,
        "execution": {
          "iopub.status.busy": "2025-05-25T23:59:56.735838Z",
          "iopub.execute_input": "2025-05-25T23:59:56.736148Z",
          "iopub.status.idle": "2025-05-25T23:59:56.740207Z",
          "shell.execute_reply.started": "2025-05-25T23:59:56.736121Z",
          "shell.execute_reply": "2025-05-25T23:59:56.739580Z"
        }
      },
      "outputs": [],
      "execution_count": null
    },
    {
      "cell_type": "code",
      "source": [
        "for i in range(5,len(dates_str_list)):\n",
        "    date = dates_str_list[i]\n",
        "    if date not in daily_norm_data_dict.keys():\n",
        "        daily_norm_data_dict[date] = (daily_data_dict[date] - normalization_mean_dict[date])/ normalization_stddev_dict[date]"
      ],
      "metadata": {
        "id": "37MrDWcOEWPZ",
        "trusted": true,
        "execution": {
          "iopub.status.busy": "2025-05-25T23:59:56.742231Z",
          "iopub.execute_input": "2025-05-25T23:59:56.742435Z",
          "iopub.status.idle": "2025-05-25T23:59:56.836682Z",
          "shell.execute_reply.started": "2025-05-25T23:59:56.742419Z",
          "shell.execute_reply": "2025-05-25T23:59:56.836032Z"
        }
      },
      "outputs": [],
      "execution_count": null
    },
    {
      "cell_type": "code",
      "source": [
        "list(daily_data_dict.keys())[5:]"
      ],
      "metadata": {
        "colab": {
          "base_uri": "https://localhost:8080/"
        },
        "id": "VIdBwSvBzD9-",
        "outputId": "f03e5ce8-b35e-4efb-cd7a-64d8d8a354d4",
        "trusted": true,
        "execution": {
          "iopub.status.busy": "2025-05-25T23:59:56.837469Z",
          "iopub.execute_input": "2025-05-25T23:59:56.837721Z",
          "iopub.status.idle": "2025-05-25T23:59:56.842628Z",
          "shell.execute_reply.started": "2025-05-25T23:59:56.837698Z",
          "shell.execute_reply": "2025-05-25T23:59:56.841923Z"
        }
      },
      "outputs": [
        {
          "execution_count": 22,
          "output_type": "execute_result",
          "data": {
            "text/plain": "['2025-05-04', '2025-05-05', '2025-05-06', '2025-05-07']"
          },
          "metadata": {}
        }
      ],
      "execution_count": null
    },
    {
      "cell_type": "code",
      "source": [
        "def generate_labels(k, alpha, daily_data_dict):\n",
        "    daily_label_dict = {}\n",
        "    for date in list(daily_data_dict.keys())[5:]:\n",
        "        price_bid = daily_data_dict[date][:,0]\n",
        "        size_bid = daily_data_dict[date][:,1]\n",
        "        price_ask = daily_data_dict[date][:,2]\n",
        "        size_ask = daily_data_dict[date][:,3]\n",
        "        mid_price = (price_ask * size_bid + price_bid * size_ask) / (size_ask + size_bid)\n",
        "        future_k_avg_mid_price = moving_average(mid_price, k)[1:]\n",
        "        print(future_k_avg_mid_price.shape, mid_price[:-k].shape)\n",
        "        change_pct = (future_k_avg_mid_price - mid_price[:-k])/mid_price[:-k]\n",
        "        print(change_pct, len(change_pct))\n",
        "        y_label = (-(change_pct < -alpha).astype(int)) + (change_pct > alpha).astype(int)\n",
        "\n",
        "        daily_label_dict[date] = y_label.reshape(-1,1)\n",
        "    return daily_label_dict"
      ],
      "metadata": {
        "id": "Bmq4V4tKpF-p",
        "trusted": true,
        "execution": {
          "iopub.status.busy": "2025-05-25T23:59:56.843427Z",
          "iopub.execute_input": "2025-05-25T23:59:56.843672Z",
          "iopub.status.idle": "2025-05-25T23:59:56.853476Z",
          "shell.execute_reply.started": "2025-05-25T23:59:56.843652Z",
          "shell.execute_reply": "2025-05-25T23:59:56.852811Z"
        }
      },
      "outputs": [],
      "execution_count": null
    },
    {
      "cell_type": "code",
      "source": [
        "def generate_X_y(k, alpha, timestamp_per_sample, daily_norm_data_dict, daily_data_dict):\n",
        "    #k is the number of future timesteps used to generate the label y\n",
        "    data_x = None\n",
        "    for date in daily_norm_data_dict.keys():\n",
        "        if data_x is None:\n",
        "            data_x = daily_norm_data_dict[date].copy()[:-k,:]\n",
        "        else:\n",
        "            data_x = np.vstack((data_x, daily_norm_data_dict[date][:-k,:]))\n",
        "\n",
        "    daily_label_dict = generate_labels(k, alpha, daily_data_dict)\n",
        "    data_y = None\n",
        "    for date in daily_label_dict.keys():\n",
        "        if data_y is None:\n",
        "            data_y = daily_label_dict[date].copy()\n",
        "        else:\n",
        "            data_y = np.vstack((data_y, daily_label_dict[date]))\n",
        "\n",
        "    [N, P_x] = data_x.shape\n",
        "\n",
        "    x = np.zeros([(N-timestamp_per_sample+1), timestamp_per_sample, P_x])\n",
        "\n",
        "    for i in range(N-timestamp_per_sample+1):\n",
        "        x[i] = data_x[i:(i+timestamp_per_sample), :]\n",
        "\n",
        "    x = x.reshape(x.shape + (1,))\n",
        "    y = data_y[(timestamp_per_sample-1):]\n",
        "    y = to_categorical(y, 3)\n",
        "\n",
        "    return x, y"
      ],
      "metadata": {
        "id": "-g41Y0MVpeaX",
        "trusted": true,
        "execution": {
          "iopub.status.busy": "2025-05-25T23:59:57.669751Z",
          "iopub.execute_input": "2025-05-25T23:59:57.670264Z",
          "iopub.status.idle": "2025-05-25T23:59:57.676244Z",
          "shell.execute_reply.started": "2025-05-25T23:59:57.670243Z",
          "shell.execute_reply": "2025-05-25T23:59:57.675407Z"
        }
      },
      "outputs": [],
      "execution_count": null
    },
    {
      "cell_type": "code",
      "source": [
        "daily_norm_data_dict.pop('2025-05-07')\n",
        "daily_data_dict.pop('2025-05-07')"
      ],
      "metadata": {
        "trusted": true,
        "execution": {
          "iopub.status.busy": "2025-05-26T00:00:00.011077Z",
          "iopub.execute_input": "2025-05-26T00:00:00.011352Z",
          "iopub.status.idle": "2025-05-26T00:00:00.017394Z",
          "shell.execute_reply.started": "2025-05-26T00:00:00.011332Z",
          "shell.execute_reply": "2025-05-26T00:00:00.016639Z"
        },
        "id": "2Tl-fh7Cbvox",
        "outputId": "1f72cad1-1f49-4b82-dc89-7b4427bcdb4c"
      },
      "outputs": [
        {
          "execution_count": 25,
          "output_type": "execute_result",
          "data": {
            "text/plain": "array([[1.81636e+03, 5.87400e+01, 1.81637e+03, ..., 4.00000e-02,\n        1.81650e+03, 1.97400e+01],\n       [1.81679e+03, 1.34600e+01, 1.81680e+03, ..., 4.60000e-01,\n        1.81692e+03, 3.36000e+00],\n       [1.81681e+03, 2.49000e+00, 1.81682e+03, ..., 2.00000e-02,\n        1.81693e+03, 3.40000e-01],\n       ...,\n       [1.81048e+03, 6.68000e+00, 1.81049e+03, ..., 6.29000e+00,\n        1.81061e+03, 3.00000e-02],\n       [1.81048e+03, 1.90200e+01, 1.81049e+03, ..., 6.29000e+00,\n        1.81061e+03, 3.00000e-02],\n       [1.81026e+03, 4.74000e+00, 1.81027e+03, ..., 1.70000e-01,\n        1.81041e+03, 3.00000e-01]])"
          },
          "metadata": {}
        }
      ],
      "execution_count": null
    },
    {
      "cell_type": "code",
      "source": [
        "X,y = generate_X_y(k=8, alpha=alpha, timestamp_per_sample=100,\n",
        "                   daily_norm_data_dict= daily_norm_data_dict,\n",
        "                   daily_data_dict = daily_data_dict)"
      ],
      "metadata": {
        "colab": {
          "base_uri": "https://localhost:8080/"
        },
        "id": "Zw9x3vFLqm5W",
        "outputId": "36ce3064-8134-460c-9895-98c952ae5e05",
        "trusted": true,
        "execution": {
          "iopub.status.busy": "2025-05-26T00:00:00.848413Z",
          "iopub.execute_input": "2025-05-26T00:00:00.848704Z",
          "iopub.status.idle": "2025-05-26T00:00:07.696242Z",
          "shell.execute_reply.started": "2025-05-26T00:00:00.848681Z",
          "shell.execute_reply": "2025-05-26T00:00:07.695610Z"
        }
      },
      "outputs": [
        {
          "name": "stdout",
          "text": "(86392,) (86392,)\n[ 5.57455492e-05  1.01256770e-05  1.72004573e-05 ... -4.25251081e-05\n -4.80992974e-05 -5.47959905e-05] 86392\n(86392,) (86392,)\n[-1.89716698e-04 -2.51378867e-04 -3.24225802e-04 ...  3.04242716e-05\n -5.76103946e-08  1.98654638e-06] 86392\n(86392,) (86392,)\n[ 1.94291057e-04 -1.46386669e-06 -2.07872586e-05 ...  6.15573640e-05\n  8.43943060e-05  1.04291292e-04] 86392\n",
          "output_type": "stream"
        }
      ],
      "execution_count": null
    },
    {
      "cell_type": "code",
      "source": [
        "y[:, 0].sum(), y[:, 1].sum(), y[:, 2].sum()"
      ],
      "metadata": {
        "colab": {
          "base_uri": "https://localhost:8080/"
        },
        "id": "GYpXXqgaveT5",
        "outputId": "bfb0aec0-ce7a-4642-90be-51185110d17e",
        "trusted": true,
        "execution": {
          "iopub.status.busy": "2025-05-26T00:00:07.697338Z",
          "iopub.execute_input": "2025-05-26T00:00:07.697557Z",
          "iopub.status.idle": "2025-05-26T00:00:07.703903Z",
          "shell.execute_reply.started": "2025-05-26T00:00:07.697539Z",
          "shell.execute_reply": "2025-05-26T00:00:07.703121Z"
        }
      },
      "outputs": [
        {
          "execution_count": 27,
          "output_type": "execute_result",
          "data": {
            "text/plain": "(137151.0, 61099.0, 60827.0)"
          },
          "metadata": {}
        }
      ],
      "execution_count": null
    },
    {
      "cell_type": "code",
      "source": [
        "X_train, X_test, y_train, y_test = train_test_split(X,y,test_size = 0.2, shuffle=False)"
      ],
      "metadata": {
        "id": "OlscV952xcRQ",
        "trusted": true,
        "execution": {
          "iopub.status.busy": "2025-05-26T00:00:07.704674Z",
          "iopub.execute_input": "2025-05-26T00:00:07.704928Z",
          "iopub.status.idle": "2025-05-26T00:00:10.256010Z",
          "shell.execute_reply.started": "2025-05-26T00:00:07.704903Z",
          "shell.execute_reply": "2025-05-26T00:00:10.255445Z"
        }
      },
      "outputs": [],
      "execution_count": null
    },
    {
      "cell_type": "code",
      "source": [
        "lookback_timestep = 100\n",
        "feature_num = 40\n",
        "\n",
        "#Conv param\n",
        "conv_filter_num = 16\n",
        "\n",
        "#Inception module param\n",
        "inception_num = 32\n",
        "\n",
        "#LSTM param\n",
        "LSTM_num = 64\n",
        "\n",
        "#Activation param\n",
        "leaky_relu_alpha = 0.01\n",
        "\n",
        "# categorical crossentropy loss\n",
        "loss = 'categorical_crossentropy'\n",
        "\n",
        "# ADAM is used\n",
        "learning_rate = 0.01\n",
        "adam_epsilon = 1\n",
        "optimizer = Adam(learning_rate=learning_rate, epsilon=1)\n",
        "\n",
        "# accuracy is used for stopping training\n",
        "metrics = ['accuracy']\n",
        "\n",
        "#max epoch num is not specified in paper, use 120 because paper mentions training stops at about 100 epochs\n",
        "num_epoch = 10000\n",
        "#stop training when validation accuracy does not improve for 20 epochs\n",
        "stop_epoch_num = 20\n",
        "#mini-batch size 32 from paper\n",
        "batch_size = 32"
      ],
      "metadata": {
        "id": "SM24pG0JxcTh",
        "trusted": true,
        "execution": {
          "iopub.status.busy": "2025-05-26T00:00:10.257577Z",
          "iopub.execute_input": "2025-05-26T00:00:10.258140Z",
          "iopub.status.idle": "2025-05-26T00:00:11.540574Z",
          "shell.execute_reply.started": "2025-05-26T00:00:10.258119Z",
          "shell.execute_reply": "2025-05-26T00:00:11.539717Z"
        },
        "outputId": "3b95fa2c-446c-48f6-9f0b-2b3c9d0b4b24"
      },
      "outputs": [
        {
          "name": "stderr",
          "text": "I0000 00:00:1748217611.494308      35 gpu_device.cc:2022] Created device /job:localhost/replica:0/task:0/device:GPU:0 with 13942 MB memory:  -> device: 0, name: Tesla T4, pci bus id: 0000:00:04.0, compute capability: 7.5\nI0000 00:00:1748217611.495050      35 gpu_device.cc:2022] Created device /job:localhost/replica:0/task:0/device:GPU:1 with 13942 MB memory:  -> device: 1, name: Tesla T4, pci bus id: 0000:00:05.0, compute capability: 7.5\n",
          "output_type": "stream"
        }
      ],
      "execution_count": null
    },
    {
      "cell_type": "code",
      "source": [
        "def initiate_DeepLOB_model(lookback_timestep, feature_num, conv_filter_num, inception_num, LSTM_num, leaky_relu_alpha,\n",
        "                          loss, optimizer, metrics):\n",
        "\n",
        "    input_tensor = Input(shape=(lookback_timestep, feature_num, 1))\n",
        "\n",
        "    # Conv block1\n",
        "    print(input_tensor.shape)\n",
        "    conv_layer1 = Conv2D(conv_filter_num, (1,2), strides=(1, 2))(input_tensor)\n",
        "    print(conv_layer1.shape)\n",
        "    conv_layer1 =LeakyReLU(alpha=leaky_relu_alpha)(conv_layer1)\n",
        "    print(conv_layer1.shape)\n",
        "    conv_layer1 = Conv2D(conv_filter_num, (4,1), padding='same')(conv_layer1)\n",
        "    conv_first1 = LeakyReLU(alpha=leaky_relu_alpha)(conv_layer1)\n",
        "    print(conv_layer1.shape)\n",
        "    conv_layer1 = Conv2D(conv_filter_num, (4,1), padding='same')(conv_layer1)\n",
        "    conv_layer1 = LeakyReLU(alpha=leaky_relu_alpha)(conv_layer1)\n",
        "    print(conv_layer1.shape)\n",
        "\n",
        "    # Conv block2\n",
        "    conv_layer2 = Conv2D(conv_filter_num, (1,2), strides=(1, 2))(conv_layer1)\n",
        "    conv_layer2 = LeakyReLU(alpha=leaky_relu_alpha)(conv_layer2)\n",
        "    print(conv_layer2.shape)\n",
        "    conv_layer2 = Conv2D(conv_filter_num, (4,1), padding='same')(conv_layer2)\n",
        "    conv_layer2 = LeakyReLU(alpha=leaky_relu_alpha)(conv_layer2)\n",
        "    print(conv_layer2.shape)\n",
        "    conv_layer2 = Conv2D(conv_filter_num, (4,1), padding='same')(conv_layer2)\n",
        "    conv_layer2 = LeakyReLU(alpha=leaky_relu_alpha)(conv_layer2)\n",
        "    print(conv_layer2.shape)\n",
        "\n",
        "    # Conv block3\n",
        "    conv_layer3 = Conv2D(conv_filter_num, (1,10))(conv_layer2)\n",
        "    conv_layer3 = LeakyReLU(alpha=leaky_relu_alpha)(conv_layer3)\n",
        "    print(conv_layer3.shape)\n",
        "    conv_layer3 = Conv2D(conv_filter_num, (4,1), padding='same')(conv_layer3)\n",
        "    conv_layer3 = LeakyReLU(alpha=leaky_relu_alpha)(conv_layer3)\n",
        "    print(conv_layer3.shape)\n",
        "    conv_layer3 = Conv2D(conv_filter_num, (4,1), padding='same')(conv_layer3)\n",
        "    conv_layer3 = LeakyReLU(alpha=leaky_relu_alpha)(conv_layer3)\n",
        "    print(conv_layer3.shape)\n",
        "\n",
        "    # Inception module\n",
        "    inception_module1 = Conv2D(inception_num, (1,1), padding='same')(conv_layer3)\n",
        "    inception_module1 = LeakyReLU(alpha=leaky_relu_alpha)(inception_module1)\n",
        "    print(inception_module1.shape)\n",
        "    inception_module1 = Conv2D(inception_num, (3,1), padding='same')(inception_module1)\n",
        "    inception_module1 = LeakyReLU(alpha=leaky_relu_alpha)(inception_module1)\n",
        "    print(inception_module1.shape)\n",
        "\n",
        "    inception_module2 = Conv2D(inception_num, (1,1), padding='same')(conv_layer3)\n",
        "    inception_module2 = LeakyReLU(alpha=leaky_relu_alpha)(inception_module2)\n",
        "    print(inception_module2.shape)\n",
        "    inception_module2 = Conv2D(inception_num, (5,1), padding='same')(inception_module2)\n",
        "    inception_module2 = LeakyReLU(alpha=leaky_relu_alpha)(inception_module2)\n",
        "    print(inception_module2.shape)\n",
        "\n",
        "    inception_module3 = MaxPooling2D((3,1), strides=(1,1), padding='same')(conv_layer3)\n",
        "    print(inception_module3.shape)\n",
        "    inception_module3 = Conv2D(inception_num, (1,1), padding='same')(inception_module3)\n",
        "    print(inception_module3.shape)\n",
        "    inception_module3 = LeakyReLU(alpha=leaky_relu_alpha)(inception_module3)\n",
        "    print(inception_module3.shape)\n",
        "\n",
        "    inception_module_final = concatenate([inception_module1, inception_module2, inception_module3], axis=3)\n",
        "    print(inception_module_final.shape)\n",
        "    inception_module_final = Reshape((inception_module_final.shape[1], inception_module_final.shape[3]))(inception_module_final)\n",
        "    print(inception_module_final.shape)\n",
        "\n",
        "    # LSTM\n",
        "    LSTM_output = LSTM(LSTM_num)(inception_module_final)\n",
        "    print(LSTM_output.shape)\n",
        "\n",
        "    # Fully Connected Layer with softmax activation function for output\n",
        "    model_output = Dense(3, activation='softmax')(LSTM_output)\n",
        "    print(model_output.shape)\n",
        "\n",
        "    DeepLOB_model = Model(inputs=input_tensor, outputs= model_output)\n",
        "    es = EarlyStopping(monitor='val_accuracy', mode='max', verbose=1)\n",
        "\n",
        "    DeepLOB_model.compile(optimizer=optimizer, loss=loss, metrics=metrics)\n",
        "\n",
        "    return DeepLOB_model"
      ],
      "metadata": {
        "id": "l_3lzzlkxcWP",
        "trusted": true,
        "execution": {
          "iopub.status.busy": "2025-05-26T00:00:11.541346Z",
          "iopub.execute_input": "2025-05-26T00:00:11.541574Z",
          "iopub.status.idle": "2025-05-26T00:00:11.553596Z",
          "shell.execute_reply.started": "2025-05-26T00:00:11.541556Z",
          "shell.execute_reply": "2025-05-26T00:00:11.552643Z"
        }
      },
      "outputs": [],
      "execution_count": null
    },
    {
      "cell_type": "code",
      "source": [
        "DeepLOB_model = initiate_DeepLOB_model(lookback_timestep, feature_num, conv_filter_num, inception_num, LSTM_num, leaky_relu_alpha,\n",
        "                          loss, optimizer, metrics)"
      ],
      "metadata": {
        "id": "Yp5Rx3DaxcYq",
        "trusted": true,
        "execution": {
          "iopub.status.busy": "2025-05-26T00:00:12.825265Z",
          "iopub.execute_input": "2025-05-26T00:00:12.825535Z",
          "iopub.status.idle": "2025-05-26T00:00:14.306647Z",
          "shell.execute_reply.started": "2025-05-26T00:00:12.825515Z",
          "shell.execute_reply": "2025-05-26T00:00:14.305870Z"
        },
        "outputId": "e9d41bf2-8440-4eca-8a22-f9795907a813"
      },
      "outputs": [
        {
          "name": "stdout",
          "text": "(None, 100, 40, 1)\n(None, 100, 20, 16)\n(None, 100, 20, 16)\n(None, 100, 20, 16)\n(None, 100, 20, 16)\n(None, 100, 10, 16)\n(None, 100, 10, 16)\n(None, 100, 10, 16)\n(None, 100, 1, 16)\n(None, 100, 1, 16)\n(None, 100, 1, 16)\n(None, 100, 1, 32)\n(None, 100, 1, 32)\n(None, 100, 1, 32)\n(None, 100, 1, 32)\n(None, 100, 1, 16)\n(None, 100, 1, 32)\n(None, 100, 1, 32)\n(None, 100, 1, 96)\n(None, 100, 96)\n",
          "output_type": "stream"
        },
        {
          "name": "stderr",
          "text": "/usr/local/lib/python3.11/dist-packages/keras/src/layers/activations/leaky_relu.py:41: UserWarning: Argument `alpha` is deprecated. Use `negative_slope` instead.\n  warnings.warn(\n",
          "output_type": "stream"
        },
        {
          "name": "stdout",
          "text": "(None, 64)\n(None, 3)\n",
          "output_type": "stream"
        }
      ],
      "execution_count": null
    },
    {
      "cell_type": "code",
      "source": [
        "es = EarlyStopping(monitor='val_accuracy', mode='max', patience = stop_epoch_num, verbose=1)\n",
        "DeepLOB_model.fit(X_train, y_train, epochs=100, batch_size=batch_size, verbose=2, validation_data=(X_test, y_test), callbacks = [es])"
      ],
      "metadata": {
        "id": "IOxEof7AxcbT",
        "trusted": true,
        "execution": {
          "iopub.status.busy": "2025-05-26T00:00:15.859875Z",
          "iopub.execute_input": "2025-05-26T00:00:15.860181Z",
          "iopub.status.idle": "2025-05-26T02:27:27.594297Z",
          "shell.execute_reply.started": "2025-05-26T00:00:15.860161Z",
          "shell.execute_reply": "2025-05-26T02:27:27.593542Z"
        },
        "outputId": "63c87292-0892-4af4-b978-fba77d84151a"
      },
      "outputs": [
        {
          "name": "stdout",
          "text": "Epoch 1/100\n",
          "output_type": "stream"
        },
        {
          "name": "stderr",
          "text": "I0000 00:00:1748217634.120621     107 cuda_dnn.cc:529] Loaded cuDNN version 90300\n",
          "output_type": "stream"
        },
        {
          "name": "stdout",
          "text": "6477/6477 - 99s - 15ms/step - accuracy: 0.5293 - loss: 1.0100 - val_accuracy: 0.5284 - val_loss: 1.0058\nEpoch 2/100\n6477/6477 - 89s - 14ms/step - accuracy: 0.5296 - loss: 1.0047 - val_accuracy: 0.5284 - val_loss: 1.0058\nEpoch 3/100\n6477/6477 - 90s - 14ms/step - accuracy: 0.5301 - loss: 0.9988 - val_accuracy: 0.5285 - val_loss: 0.9905\nEpoch 4/100\n6477/6477 - 89s - 14ms/step - accuracy: 0.5334 - loss: 0.9771 - val_accuracy: 0.5259 - val_loss: 0.9738\nEpoch 5/100\n6477/6477 - 89s - 14ms/step - accuracy: 0.5379 - loss: 0.9634 - val_accuracy: 0.5402 - val_loss: 0.9543\nEpoch 6/100\n6477/6477 - 88s - 14ms/step - accuracy: 0.5414 - loss: 0.9537 - val_accuracy: 0.5429 - val_loss: 0.9501\nEpoch 7/100\n6477/6477 - 90s - 14ms/step - accuracy: 0.5450 - loss: 0.9489 - val_accuracy: 0.5457 - val_loss: 0.9473\nEpoch 8/100\n6477/6477 - 89s - 14ms/step - accuracy: 0.5477 - loss: 0.9460 - val_accuracy: 0.5465 - val_loss: 0.9434\nEpoch 9/100\n6477/6477 - 88s - 14ms/step - accuracy: 0.5479 - loss: 0.9441 - val_accuracy: 0.5472 - val_loss: 0.9454\nEpoch 10/100\n6477/6477 - 88s - 14ms/step - accuracy: 0.5490 - loss: 0.9423 - val_accuracy: 0.5483 - val_loss: 0.9414\nEpoch 11/100\n6477/6477 - 89s - 14ms/step - accuracy: 0.5503 - loss: 0.9413 - val_accuracy: 0.5469 - val_loss: 0.9464\nEpoch 12/100\n6477/6477 - 86s - 13ms/step - accuracy: 0.5509 - loss: 0.9400 - val_accuracy: 0.5489 - val_loss: 0.9430\nEpoch 13/100\n6477/6477 - 88s - 14ms/step - accuracy: 0.5519 - loss: 0.9389 - val_accuracy: 0.5492 - val_loss: 0.9384\nEpoch 14/100\n6477/6477 - 88s - 14ms/step - accuracy: 0.5515 - loss: 0.9382 - val_accuracy: 0.5508 - val_loss: 0.9387\nEpoch 15/100\n6477/6477 - 89s - 14ms/step - accuracy: 0.5520 - loss: 0.9370 - val_accuracy: 0.5499 - val_loss: 0.9403\nEpoch 16/100\n6477/6477 - 88s - 14ms/step - accuracy: 0.5532 - loss: 0.9356 - val_accuracy: 0.5524 - val_loss: 0.9357\nEpoch 17/100\n6477/6477 - 88s - 14ms/step - accuracy: 0.5534 - loss: 0.9348 - val_accuracy: 0.5515 - val_loss: 0.9357\nEpoch 18/100\n6477/6477 - 89s - 14ms/step - accuracy: 0.5543 - loss: 0.9340 - val_accuracy: 0.5520 - val_loss: 0.9363\nEpoch 19/100\n6477/6477 - 89s - 14ms/step - accuracy: 0.5545 - loss: 0.9335 - val_accuracy: 0.5477 - val_loss: 0.9395\nEpoch 20/100\n6477/6477 - 88s - 14ms/step - accuracy: 0.5551 - loss: 0.9323 - val_accuracy: 0.5536 - val_loss: 0.9359\nEpoch 21/100\n6477/6477 - 88s - 14ms/step - accuracy: 0.5559 - loss: 0.9315 - val_accuracy: 0.5510 - val_loss: 0.9363\nEpoch 22/100\n6477/6477 - 87s - 13ms/step - accuracy: 0.5560 - loss: 0.9306 - val_accuracy: 0.5551 - val_loss: 0.9380\nEpoch 23/100\n6477/6477 - 88s - 14ms/step - accuracy: 0.5567 - loss: 0.9296 - val_accuracy: 0.5538 - val_loss: 0.9355\nEpoch 24/100\n6477/6477 - 88s - 14ms/step - accuracy: 0.5572 - loss: 0.9285 - val_accuracy: 0.5544 - val_loss: 0.9315\nEpoch 25/100\n6477/6477 - 88s - 14ms/step - accuracy: 0.5576 - loss: 0.9278 - val_accuracy: 0.5522 - val_loss: 0.9353\nEpoch 26/100\n6477/6477 - 89s - 14ms/step - accuracy: 0.5575 - loss: 0.9271 - val_accuracy: 0.5552 - val_loss: 0.9319\nEpoch 27/100\n6477/6477 - 88s - 14ms/step - accuracy: 0.5585 - loss: 0.9258 - val_accuracy: 0.5518 - val_loss: 0.9357\nEpoch 28/100\n6477/6477 - 88s - 14ms/step - accuracy: 0.5590 - loss: 0.9249 - val_accuracy: 0.5576 - val_loss: 0.9286\nEpoch 29/100\n6477/6477 - 88s - 14ms/step - accuracy: 0.5596 - loss: 0.9240 - val_accuracy: 0.5536 - val_loss: 0.9386\nEpoch 30/100\n6477/6477 - 88s - 14ms/step - accuracy: 0.5599 - loss: 0.9228 - val_accuracy: 0.5567 - val_loss: 0.9297\nEpoch 31/100\n6477/6477 - 88s - 14ms/step - accuracy: 0.5610 - loss: 0.9219 - val_accuracy: 0.5565 - val_loss: 0.9288\nEpoch 32/100\n6477/6477 - 88s - 14ms/step - accuracy: 0.5613 - loss: 0.9210 - val_accuracy: 0.5551 - val_loss: 0.9322\nEpoch 33/100\n6477/6477 - 88s - 14ms/step - accuracy: 0.5615 - loss: 0.9202 - val_accuracy: 0.5553 - val_loss: 0.9286\nEpoch 34/100\n6477/6477 - 89s - 14ms/step - accuracy: 0.5622 - loss: 0.9184 - val_accuracy: 0.5570 - val_loss: 0.9321\nEpoch 35/100\n6477/6477 - 88s - 14ms/step - accuracy: 0.5633 - loss: 0.9180 - val_accuracy: 0.5562 - val_loss: 0.9286\nEpoch 36/100\n6477/6477 - 88s - 14ms/step - accuracy: 0.5628 - loss: 0.9165 - val_accuracy: 0.5578 - val_loss: 0.9278\nEpoch 37/100\n6477/6477 - 88s - 14ms/step - accuracy: 0.5635 - loss: 0.9151 - val_accuracy: 0.5586 - val_loss: 0.9258\nEpoch 38/100\n6477/6477 - 89s - 14ms/step - accuracy: 0.5642 - loss: 0.9141 - val_accuracy: 0.5612 - val_loss: 0.9252\nEpoch 39/100\n6477/6477 - 88s - 14ms/step - accuracy: 0.5653 - loss: 0.9129 - val_accuracy: 0.5587 - val_loss: 0.9392\nEpoch 40/100\n6477/6477 - 88s - 14ms/step - accuracy: 0.5660 - loss: 0.9117 - val_accuracy: 0.5571 - val_loss: 0.9278\nEpoch 41/100\n6477/6477 - 88s - 14ms/step - accuracy: 0.5656 - loss: 0.9106 - val_accuracy: 0.5579 - val_loss: 0.9248\nEpoch 42/100\n6477/6477 - 89s - 14ms/step - accuracy: 0.5670 - loss: 0.9089 - val_accuracy: 0.5617 - val_loss: 0.9211\nEpoch 43/100\n6477/6477 - 86s - 13ms/step - accuracy: 0.5681 - loss: 0.9076 - val_accuracy: 0.5616 - val_loss: 0.9227\nEpoch 44/100\n6477/6477 - 88s - 14ms/step - accuracy: 0.5684 - loss: 0.9066 - val_accuracy: 0.5598 - val_loss: 0.9255\nEpoch 45/100\n6477/6477 - 88s - 14ms/step - accuracy: 0.5699 - loss: 0.9053 - val_accuracy: 0.5605 - val_loss: 0.9204\nEpoch 46/100\n6477/6477 - 89s - 14ms/step - accuracy: 0.5699 - loss: 0.9035 - val_accuracy: 0.5628 - val_loss: 0.9198\nEpoch 47/100\n6477/6477 - 88s - 14ms/step - accuracy: 0.5709 - loss: 0.9019 - val_accuracy: 0.5628 - val_loss: 0.9193\nEpoch 48/100\n6477/6477 - 88s - 14ms/step - accuracy: 0.5712 - loss: 0.9010 - val_accuracy: 0.5659 - val_loss: 0.9165\nEpoch 49/100\n6477/6477 - 89s - 14ms/step - accuracy: 0.5733 - loss: 0.8989 - val_accuracy: 0.5632 - val_loss: 0.9177\nEpoch 50/100\n6477/6477 - 88s - 14ms/step - accuracy: 0.5730 - loss: 0.8980 - val_accuracy: 0.5636 - val_loss: 0.9182\nEpoch 51/100\n6477/6477 - 87s - 13ms/step - accuracy: 0.5751 - loss: 0.8954 - val_accuracy: 0.5627 - val_loss: 0.9323\nEpoch 52/100\n6477/6477 - 88s - 14ms/step - accuracy: 0.5767 - loss: 0.8939 - val_accuracy: 0.5629 - val_loss: 0.9195\nEpoch 53/100\n6477/6477 - 89s - 14ms/step - accuracy: 0.5763 - loss: 0.8924 - val_accuracy: 0.5675 - val_loss: 0.9141\nEpoch 54/100\n6477/6477 - 86s - 13ms/step - accuracy: 0.5777 - loss: 0.8909 - val_accuracy: 0.5680 - val_loss: 0.9115\nEpoch 55/100\n6477/6477 - 88s - 14ms/step - accuracy: 0.5800 - loss: 0.8887 - val_accuracy: 0.5676 - val_loss: 0.9100\nEpoch 56/100\n6477/6477 - 88s - 14ms/step - accuracy: 0.5807 - loss: 0.8872 - val_accuracy: 0.5685 - val_loss: 0.9124\nEpoch 57/100\n6477/6477 - 89s - 14ms/step - accuracy: 0.5819 - loss: 0.8853 - val_accuracy: 0.5706 - val_loss: 0.9127\nEpoch 58/100\n6477/6477 - 88s - 14ms/step - accuracy: 0.5831 - loss: 0.8835 - val_accuracy: 0.5694 - val_loss: 0.9093\nEpoch 59/100\n6477/6477 - 88s - 14ms/step - accuracy: 0.5853 - loss: 0.8809 - val_accuracy: 0.5720 - val_loss: 0.9034\nEpoch 60/100\n6477/6477 - 89s - 14ms/step - accuracy: 0.5864 - loss: 0.8788 - val_accuracy: 0.5694 - val_loss: 0.9097\nEpoch 61/100\n6477/6477 - 89s - 14ms/step - accuracy: 0.5867 - loss: 0.8764 - val_accuracy: 0.5721 - val_loss: 0.9110\nEpoch 62/100\n6477/6477 - 89s - 14ms/step - accuracy: 0.5895 - loss: 0.8741 - val_accuracy: 0.5572 - val_loss: 0.9163\nEpoch 63/100\n6477/6477 - 88s - 14ms/step - accuracy: 0.5903 - loss: 0.8723 - val_accuracy: 0.5738 - val_loss: 0.9012\nEpoch 64/100\n6477/6477 - 85s - 13ms/step - accuracy: 0.5914 - loss: 0.8700 - val_accuracy: 0.5712 - val_loss: 0.9044\nEpoch 65/100\n6477/6477 - 88s - 14ms/step - accuracy: 0.5935 - loss: 0.8670 - val_accuracy: 0.5718 - val_loss: 0.9044\nEpoch 66/100\n6477/6477 - 88s - 14ms/step - accuracy: 0.5948 - loss: 0.8642 - val_accuracy: 0.5759 - val_loss: 0.9106\nEpoch 67/100\n6477/6477 - 88s - 14ms/step - accuracy: 0.5966 - loss: 0.8616 - val_accuracy: 0.5723 - val_loss: 0.9001\nEpoch 68/100\n6477/6477 - 88s - 14ms/step - accuracy: 0.5962 - loss: 0.8599 - val_accuracy: 0.5776 - val_loss: 0.8976\nEpoch 69/100\n6477/6477 - 88s - 14ms/step - accuracy: 0.6001 - loss: 0.8564 - val_accuracy: 0.5789 - val_loss: 0.8906\nEpoch 70/100\n6477/6477 - 88s - 14ms/step - accuracy: 0.6013 - loss: 0.8531 - val_accuracy: 0.5782 - val_loss: 0.8935\nEpoch 71/100\n6477/6477 - 88s - 14ms/step - accuracy: 0.6035 - loss: 0.8503 - val_accuracy: 0.5806 - val_loss: 0.8915\nEpoch 72/100\n6477/6477 - 88s - 14ms/step - accuracy: 0.6043 - loss: 0.8477 - val_accuracy: 0.5786 - val_loss: 0.8914\nEpoch 73/100\n6477/6477 - 88s - 14ms/step - accuracy: 0.6062 - loss: 0.8446 - val_accuracy: 0.5801 - val_loss: 0.8908\nEpoch 74/100\n6477/6477 - 88s - 14ms/step - accuracy: 0.6082 - loss: 0.8417 - val_accuracy: 0.5811 - val_loss: 0.8917\nEpoch 75/100\n6477/6477 - 86s - 13ms/step - accuracy: 0.6107 - loss: 0.8388 - val_accuracy: 0.5837 - val_loss: 0.8876\nEpoch 76/100\n6477/6477 - 89s - 14ms/step - accuracy: 0.6115 - loss: 0.8369 - val_accuracy: 0.5795 - val_loss: 0.8901\nEpoch 77/100\n6477/6477 - 89s - 14ms/step - accuracy: 0.6139 - loss: 0.8325 - val_accuracy: 0.5847 - val_loss: 0.8910\nEpoch 78/100\n6477/6477 - 88s - 14ms/step - accuracy: 0.6171 - loss: 0.8291 - val_accuracy: 0.5929 - val_loss: 0.8760\nEpoch 79/100\n6477/6477 - 88s - 14ms/step - accuracy: 0.6181 - loss: 0.8264 - val_accuracy: 0.5845 - val_loss: 0.8795\nEpoch 80/100\n6477/6477 - 87s - 13ms/step - accuracy: 0.6188 - loss: 0.8231 - val_accuracy: 0.5850 - val_loss: 0.8812\nEpoch 81/100\n6477/6477 - 88s - 14ms/step - accuracy: 0.6198 - loss: 0.8206 - val_accuracy: 0.5939 - val_loss: 0.8691\nEpoch 82/100\n6477/6477 - 88s - 14ms/step - accuracy: 0.6230 - loss: 0.8176 - val_accuracy: 0.5884 - val_loss: 0.8758\nEpoch 83/100\n6477/6477 - 88s - 14ms/step - accuracy: 0.6248 - loss: 0.8144 - val_accuracy: 0.5970 - val_loss: 0.8731\nEpoch 84/100\n6477/6477 - 88s - 14ms/step - accuracy: 0.6262 - loss: 0.8112 - val_accuracy: 0.5927 - val_loss: 0.8818\nEpoch 85/100\n6477/6477 - 86s - 13ms/step - accuracy: 0.6277 - loss: 0.8085 - val_accuracy: 0.5916 - val_loss: 0.8716\nEpoch 86/100\n6477/6477 - 88s - 14ms/step - accuracy: 0.6303 - loss: 0.8059 - val_accuracy: 0.5979 - val_loss: 0.8664\nEpoch 87/100\n6477/6477 - 88s - 14ms/step - accuracy: 0.6314 - loss: 0.8029 - val_accuracy: 0.5909 - val_loss: 0.8730\nEpoch 88/100\n6477/6477 - 89s - 14ms/step - accuracy: 0.6324 - loss: 0.7996 - val_accuracy: 0.5982 - val_loss: 0.8620\nEpoch 89/100\n6477/6477 - 88s - 14ms/step - accuracy: 0.6342 - loss: 0.7969 - val_accuracy: 0.6027 - val_loss: 0.8564\nEpoch 90/100\n6477/6477 - 89s - 14ms/step - accuracy: 0.6374 - loss: 0.7930 - val_accuracy: 0.6011 - val_loss: 0.8615\nEpoch 91/100\n6477/6477 - 88s - 14ms/step - accuracy: 0.6390 - loss: 0.7908 - val_accuracy: 0.5998 - val_loss: 0.8603\nEpoch 92/100\n6477/6477 - 89s - 14ms/step - accuracy: 0.6403 - loss: 0.7880 - val_accuracy: 0.5900 - val_loss: 0.8681\nEpoch 93/100\n6477/6477 - 88s - 14ms/step - accuracy: 0.6403 - loss: 0.7874 - val_accuracy: 0.6021 - val_loss: 0.8539\nEpoch 94/100\n6477/6477 - 89s - 14ms/step - accuracy: 0.6434 - loss: 0.7819 - val_accuracy: 0.5937 - val_loss: 0.8639\nEpoch 95/100\n6477/6477 - 88s - 14ms/step - accuracy: 0.6451 - loss: 0.7801 - val_accuracy: 0.6034 - val_loss: 0.8507\nEpoch 96/100\n6477/6477 - 87s - 13ms/step - accuracy: 0.6462 - loss: 0.7773 - val_accuracy: 0.5947 - val_loss: 0.8639\nEpoch 97/100\n6477/6477 - 88s - 14ms/step - accuracy: 0.6471 - loss: 0.7748 - val_accuracy: 0.6044 - val_loss: 0.8512\nEpoch 98/100\n6477/6477 - 88s - 14ms/step - accuracy: 0.6487 - loss: 0.7720 - val_accuracy: 0.6062 - val_loss: 0.8506\nEpoch 99/100\n6477/6477 - 88s - 14ms/step - accuracy: 0.6499 - loss: 0.7695 - val_accuracy: 0.5944 - val_loss: 0.8601\nEpoch 100/100\n6477/6477 - 89s - 14ms/step - accuracy: 0.6511 - loss: 0.7697 - val_accuracy: 0.6127 - val_loss: 0.8489\n",
          "output_type": "stream"
        },
        {
          "execution_count": 32,
          "output_type": "execute_result",
          "data": {
            "text/plain": "<keras.src.callbacks.history.History at 0x7fbeb31f8fd0>"
          },
          "metadata": {}
        }
      ],
      "execution_count": null
    },
    {
      "cell_type": "code",
      "source": [
        "from sklearn.metrics import classification_report\n",
        "import numpy as np\n",
        "\n",
        "# Предсказания\n",
        "y_pred_probs = DeepLOB_model.predict(X_test)\n",
        "y_pred = np.argmax(y_pred_probs, axis=1)\n",
        "y_true = np.argmax(y_test, axis=1)\n",
        "\n",
        "# Отчёт по классам\n",
        "print(classification_report(y_true, y_pred, target_names=['Down', 'Neutral', 'Up'], digits=4))"
      ],
      "metadata": {
        "trusted": true,
        "execution": {
          "iopub.status.busy": "2025-05-26T02:27:27.595386Z",
          "iopub.execute_input": "2025-05-26T02:27:27.595644Z",
          "iopub.status.idle": "2025-05-26T02:27:37.279843Z",
          "shell.execute_reply.started": "2025-05-26T02:27:27.595625Z",
          "shell.execute_reply": "2025-05-26T02:27:37.279141Z"
        },
        "id": "YzrD3JP0bvpm",
        "outputId": "8e7a6986-cc01-44b3-fbff-8286325a9d1c"
      },
      "outputs": [
        {
          "name": "stdout",
          "text": "\u001b[1m1620/1620\u001b[0m \u001b[32m━━━━━━━━━━━━━━━━━━━━\u001b[0m\u001b[37m\u001b[0m \u001b[1m6s\u001b[0m 4ms/step\n              precision    recall  f1-score   support\n\n        Down     0.6451    0.7860    0.7086     27377\n     Neutral     0.5525    0.4290    0.4830     12186\n          Up     0.5560    0.4082    0.4708     12253\n\n    accuracy                         0.6127     51816\n   macro avg     0.5845    0.5411    0.5541     51816\nweighted avg     0.6022    0.6127    0.5993     51816\n\n",
          "output_type": "stream"
        }
      ],
      "execution_count": null
    },
    {
      "cell_type": "code",
      "source": [],
      "metadata": {
        "trusted": true,
        "id": "kxxC_j0ibvpn"
      },
      "outputs": [],
      "execution_count": null
    },
    {
      "cell_type": "code",
      "source": [],
      "metadata": {
        "trusted": true,
        "id": "U0-RKpidbvpn"
      },
      "outputs": [],
      "execution_count": null
    },
    {
      "cell_type": "code",
      "source": [],
      "metadata": {
        "trusted": true,
        "id": "p7efPIHZbvpn"
      },
      "outputs": [],
      "execution_count": null
    },
    {
      "cell_type": "code",
      "source": [],
      "metadata": {
        "trusted": true,
        "id": "XJsQhddJbvpn"
      },
      "outputs": [],
      "execution_count": null
    },
    {
      "cell_type": "code",
      "source": [],
      "metadata": {
        "trusted": true,
        "id": "PK_U8Lovbvpn"
      },
      "outputs": [],
      "execution_count": null
    },
    {
      "cell_type": "code",
      "source": [],
      "metadata": {
        "trusted": true,
        "id": "WVqiM8uBbvpo"
      },
      "outputs": [],
      "execution_count": null
    }
  ]
}